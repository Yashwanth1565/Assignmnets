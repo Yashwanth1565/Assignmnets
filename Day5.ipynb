{
  "nbformat": 4,
  "nbformat_minor": 0,
  "metadata": {
    "colab": {
      "provenance": [],
      "authorship_tag": "ABX9TyNeAsdQiuq84Gv6m/RBYhTX",
      "include_colab_link": true
    },
    "kernelspec": {
      "name": "python3",
      "display_name": "Python 3"
    },
    "language_info": {
      "name": "python"
    }
  },
  "cells": [
    {
      "cell_type": "markdown",
      "metadata": {
        "id": "view-in-github",
        "colab_type": "text"
      },
      "source": [
        "<a href=\"https://colab.research.google.com/github/Yashwanth1565/Assignmnets/blob/main/Day5.ipynb\" target=\"_parent\"><img src=\"https://colab.research.google.com/assets/colab-badge.svg\" alt=\"Open In Colab\"/></a>"
      ]
    },
    {
      "cell_type": "code",
      "execution_count": 11,
      "metadata": {
        "colab": {
          "base_uri": "https://localhost:8080/"
        },
        "id": "xjpZ4YvvbIAu",
        "outputId": "9fc28b6b-62ed-433b-fa9c-8f77c44921f6"
      },
      "outputs": [
        {
          "output_type": "stream",
          "name": "stdout",
          "text": [
            "1\n",
            "1\n",
            "2\n",
            "2\n",
            "1\n"
          ]
        }
      ],
      "source": [
        "sentence=\"Hello\"\n",
        "for word in sentence:\n",
        "  print(sentence.count(word))"
      ]
    },
    {
      "cell_type": "code",
      "source": [
        "sentence = \"Hello everyone hello this is yash yash is a good boy\"\n",
        "sentence = sentence.lower()\n",
        "words = sentence.split()\n",
        "word_frequencies = {}\n",
        "for word in words:\n",
        "    if word in word_frequencies:\n",
        "        word_frequencies[word] += 1\n",
        "    # Otherwise, add the word to the dictionary with a count of 1\n",
        "    else:\n",
        "        word_frequencies[word] = 1\n",
        "\n",
        "# Print the word frequencies\n",
        "for word, frequency in word_frequencies.items():\n",
        "    print(f\"{word}: {frequency}\")"
      ],
      "metadata": {
        "colab": {
          "base_uri": "https://localhost:8080/"
        },
        "id": "i8Nkpo_ObmFH",
        "outputId": "0910d4fe-ef37-4720-d540-0c781a548bf6"
      },
      "execution_count": 10,
      "outputs": [
        {
          "output_type": "stream",
          "name": "stdout",
          "text": [
            "hello: 2\n",
            "everyone: 1\n",
            "this: 1\n",
            "is: 2\n",
            "yash: 2\n",
            "a: 1\n",
            "good: 1\n",
            "boy: 1\n"
          ]
        }
      ]
    }
  ]
}